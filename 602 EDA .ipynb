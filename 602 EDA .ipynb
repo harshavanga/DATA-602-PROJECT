{
 "cells": [
  {
   "cell_type": "markdown",
   "id": "73073486",
   "metadata": {},
   "source": [
    "# DATA 602 Project EDA"
   ]
  },
  {
   "cell_type": "markdown",
   "id": "b29b8fb6",
   "metadata": {},
   "source": [
    "Data Source: https://www.huduser.gov/portal/datasets/hads/hads.html"
   ]
  },
  {
   "cell_type": "code",
   "execution_count": 1,
   "id": "867de24a",
   "metadata": {},
   "outputs": [],
   "source": [
    "import pandas as pd \n",
    "import numpy as np\n",
    "import matplotlib.pyplot as plt"
   ]
  },
  {
   "cell_type": "code",
   "execution_count": 2,
   "id": "b21edc17",
   "metadata": {},
   "outputs": [],
   "source": [
    "df = pd.read_csv('data.csv')"
   ]
  },
  {
   "cell_type": "code",
   "execution_count": 3,
   "id": "795778cd",
   "metadata": {},
   "outputs": [
    {
     "name": "stdout",
     "output_type": "stream",
     "text": [
      "<class 'pandas.core.frame.DataFrame'>\n",
      "RangeIndex: 64535 entries, 0 to 64534\n",
      "Data columns (total 100 columns):\n",
      " #   Column               Non-Null Count  Dtype  \n",
      "---  ------               --------------  -----  \n",
      " 0   Unnamed: 0           64535 non-null  int64  \n",
      " 1   CONTROL              64535 non-null  object \n",
      " 2   AGE1                 64535 non-null  int64  \n",
      " 3   METRO3               64535 non-null  object \n",
      " 4   REGION               64535 non-null  object \n",
      " 5   LMED                 64535 non-null  int64  \n",
      " 6   FMR                  64535 non-null  int64  \n",
      " 7   L30                  64535 non-null  int64  \n",
      " 8   L50                  64535 non-null  int64  \n",
      " 9   L80                  64535 non-null  int64  \n",
      " 10  IPOV                 64535 non-null  int64  \n",
      " 11  BEDRMS               64535 non-null  int64  \n",
      " 12  BUILT                64535 non-null  int64  \n",
      " 13  STATUS               64535 non-null  object \n",
      " 14  TYPE                 64535 non-null  int64  \n",
      " 15  VALUE                64535 non-null  int64  \n",
      " 16  VACANCY              64535 non-null  int64  \n",
      " 17  TENURE               64535 non-null  object \n",
      " 18  NUNITS               64535 non-null  int64  \n",
      " 19  ROOMS                64535 non-null  int64  \n",
      " 20  WEIGHT               64535 non-null  float64\n",
      " 21  PER                  64535 non-null  int64  \n",
      " 22  ZINC2                64535 non-null  int64  \n",
      " 23  ZADEQ                64535 non-null  object \n",
      " 24  ZSMHC                64535 non-null  int64  \n",
      " 25  STRUCTURETYPE        64535 non-null  int64  \n",
      " 26  OWNRENT              64535 non-null  object \n",
      " 27  UTILITY              64535 non-null  float64\n",
      " 28  OTHERCOST            64535 non-null  float64\n",
      " 29  COST06               64535 non-null  float64\n",
      " 30  COST12               64535 non-null  float64\n",
      " 31  COST08               64535 non-null  float64\n",
      " 32  COSTMED              64535 non-null  float64\n",
      " 33  TOTSAL               64535 non-null  int64  \n",
      " 34  ASSISTED             64535 non-null  int64  \n",
      " 35  GLMED                64535 non-null  int64  \n",
      " 36  GL30                 64535 non-null  int64  \n",
      " 37  GL50                 64535 non-null  int64  \n",
      " 38  GL80                 64535 non-null  int64  \n",
      " 39  APLMED               64535 non-null  float64\n",
      " 40  ABL30                64535 non-null  float64\n",
      " 41  ABL50                64535 non-null  float64\n",
      " 42  ABL80                64535 non-null  float64\n",
      " 43  ABLMED               64535 non-null  float64\n",
      " 44  BURDEN               64535 non-null  float64\n",
      " 45  INCRELAMIPCT         64535 non-null  float64\n",
      " 46  INCRELAMICAT         64535 non-null  int64  \n",
      " 47  INCRELPOVPCT         64535 non-null  float64\n",
      " 48  INCRELPOVCAT         64535 non-null  int64  \n",
      " 49  INCRELFMRPCT         64535 non-null  float64\n",
      " 50  INCRELFMRCAT         64535 non-null  int64  \n",
      " 51  COST06RELAMIPCT      64535 non-null  float64\n",
      " 52  COST06RELAMICAT      64535 non-null  int64  \n",
      " 53  COST06RELPOVPCT      64535 non-null  float64\n",
      " 54  COST06RELPOVCAT      64535 non-null  int64  \n",
      " 55  COST06RELFMRPCT      64535 non-null  float64\n",
      " 56  COST06RELFMRCAT      64535 non-null  int64  \n",
      " 57  COST08RELAMIPCT      64535 non-null  float64\n",
      " 58  COST08RELAMICAT      64535 non-null  int64  \n",
      " 59  COST08RELPOVPCT      64535 non-null  float64\n",
      " 60  COST08RELPOVCAT      64535 non-null  int64  \n",
      " 61  COST08RELFMRPCT      64535 non-null  float64\n",
      " 62  COST08RELFMRCAT      64535 non-null  int64  \n",
      " 63  COST12RELAMIPCT      64535 non-null  float64\n",
      " 64  COST12RELAMICAT      64535 non-null  int64  \n",
      " 65  COST12RELPOVPCT      64535 non-null  float64\n",
      " 66  COST12RELPOVCAT      64535 non-null  int64  \n",
      " 67  COST12RELFMRPCT      64535 non-null  float64\n",
      " 68  COST12RELFMRCAT      64535 non-null  int64  \n",
      " 69  COSTMedRELAMIPCT     64535 non-null  float64\n",
      " 70  COSTMedRELAMICAT     64535 non-null  int64  \n",
      " 71  COSTMedRELPOVPCT     64535 non-null  float64\n",
      " 72  COSTMedRELPOVCAT     64535 non-null  int64  \n",
      " 73  COSTMedRELFMRPCT     64535 non-null  float64\n",
      " 74  COSTMedRELFMRCAT     64535 non-null  int64  \n",
      " 75  FMTZADEQ             64535 non-null  object \n",
      " 76  FMTMETRO3            64535 non-null  object \n",
      " 77  FMTBUILT             64535 non-null  object \n",
      " 78  FMTSTRUCTURETYPE     64535 non-null  object \n",
      " 79  FMTBEDRMS            64535 non-null  object \n",
      " 80  FMTOWNRENT           64535 non-null  object \n",
      " 81  FMTCOST06RELPOVCAT   64535 non-null  object \n",
      " 82  FMTCOST08RELPOVCAT   64535 non-null  object \n",
      " 83  FMTCOST12RELPOVCAT   64535 non-null  object \n",
      " 84  FMTCOSTMEDRELPOVCAT  64535 non-null  object \n",
      " 85  FMTINCRELPOVCAT      64535 non-null  object \n",
      " 86  FMTCOST06RELFMRCAT   64535 non-null  object \n",
      " 87  FMTCOST08RELFMRCAT   64535 non-null  object \n",
      " 88  FMTCOST12RELFMRCAT   64535 non-null  object \n",
      " 89  FMTCOSTMEDRELFMRCAT  64535 non-null  object \n",
      " 90  FMTINCRELFMRCAT      64535 non-null  object \n",
      " 91  FMTCOST06RELAMICAT   64535 non-null  object \n",
      " 92  FMTCOST08RELAMICAT   64535 non-null  object \n",
      " 93  FMTCOST12RELAMICAT   64535 non-null  object \n",
      " 94  FMTCOSTMEDRELAMICAT  64535 non-null  object \n",
      " 95  FMTINCRELAMICAT      64535 non-null  object \n",
      " 96  FMTASSISTED          64535 non-null  object \n",
      " 97  FMTBURDEN            64535 non-null  object \n",
      " 98  FMTREGION            64535 non-null  object \n",
      " 99  FMTSTATUS            64535 non-null  object \n",
      "dtypes: float64(28), int64(40), object(32)\n",
      "memory usage: 49.2+ MB\n"
     ]
    }
   ],
   "source": [
    "df.info()"
   ]
  },
  {
   "cell_type": "code",
   "execution_count": 7,
   "id": "74124520",
   "metadata": {},
   "outputs": [
    {
     "data": {
      "text/html": [
       "<div>\n",
       "<style scoped>\n",
       "    .dataframe tbody tr th:only-of-type {\n",
       "        vertical-align: middle;\n",
       "    }\n",
       "\n",
       "    .dataframe tbody tr th {\n",
       "        vertical-align: top;\n",
       "    }\n",
       "\n",
       "    .dataframe thead th {\n",
       "        text-align: right;\n",
       "    }\n",
       "</style>\n",
       "<table border=\"1\" class=\"dataframe\">\n",
       "  <thead>\n",
       "    <tr style=\"text-align: right;\">\n",
       "      <th></th>\n",
       "      <th>Unnamed: 0</th>\n",
       "      <th>CONTROL</th>\n",
       "      <th>AGE1</th>\n",
       "      <th>METRO3</th>\n",
       "      <th>REGION</th>\n",
       "      <th>LMED</th>\n",
       "      <th>FMR</th>\n",
       "      <th>L30</th>\n",
       "      <th>L50</th>\n",
       "      <th>L80</th>\n",
       "      <th>...</th>\n",
       "      <th>FMTINCRELFMRCAT</th>\n",
       "      <th>FMTCOST06RELAMICAT</th>\n",
       "      <th>FMTCOST08RELAMICAT</th>\n",
       "      <th>FMTCOST12RELAMICAT</th>\n",
       "      <th>FMTCOSTMEDRELAMICAT</th>\n",
       "      <th>FMTINCRELAMICAT</th>\n",
       "      <th>FMTASSISTED</th>\n",
       "      <th>FMTBURDEN</th>\n",
       "      <th>FMTREGION</th>\n",
       "      <th>FMTSTATUS</th>\n",
       "    </tr>\n",
       "  </thead>\n",
       "  <tbody>\n",
       "    <tr>\n",
       "      <th>0</th>\n",
       "      <td>0</td>\n",
       "      <td>'100003130103'</td>\n",
       "      <td>82</td>\n",
       "      <td>'3'</td>\n",
       "      <td>'1'</td>\n",
       "      <td>73738</td>\n",
       "      <td>956</td>\n",
       "      <td>15738</td>\n",
       "      <td>26213</td>\n",
       "      <td>40322</td>\n",
       "      <td>...</td>\n",
       "      <td>'1 LTE 50% FMR'</td>\n",
       "      <td>'2 30 - 50% AMI'</td>\n",
       "      <td>'2 30 - 50% AMI'</td>\n",
       "      <td>'2 30 - 50% AMI'</td>\n",
       "      <td>'2 30 - 50% AMI'</td>\n",
       "      <td>'2 30 - 50% AMI'</td>\n",
       "      <td>'.'</td>\n",
       "      <td>'2 30% to 50%'</td>\n",
       "      <td>'-5'</td>\n",
       "      <td>'-5'</td>\n",
       "    </tr>\n",
       "    <tr>\n",
       "      <th>1</th>\n",
       "      <td>1</td>\n",
       "      <td>'100006110249'</td>\n",
       "      <td>50</td>\n",
       "      <td>'5'</td>\n",
       "      <td>'3'</td>\n",
       "      <td>55846</td>\n",
       "      <td>1100</td>\n",
       "      <td>17165</td>\n",
       "      <td>28604</td>\n",
       "      <td>45744</td>\n",
       "      <td>...</td>\n",
       "      <td>'3 GT FMR'</td>\n",
       "      <td>'4 60 - 80% AMI'</td>\n",
       "      <td>'4 60 - 80% AMI'</td>\n",
       "      <td>'6 100 - 120% AMI'</td>\n",
       "      <td>'4 60 - 80% AMI'</td>\n",
       "      <td>'7 120% AMI +'</td>\n",
       "      <td>'.'</td>\n",
       "      <td>'1 Less than 30%'</td>\n",
       "      <td>'-5'</td>\n",
       "      <td>'-5'</td>\n",
       "    </tr>\n",
       "    <tr>\n",
       "      <th>2</th>\n",
       "      <td>2</td>\n",
       "      <td>'100006370140'</td>\n",
       "      <td>53</td>\n",
       "      <td>'5'</td>\n",
       "      <td>'3'</td>\n",
       "      <td>55846</td>\n",
       "      <td>1100</td>\n",
       "      <td>13750</td>\n",
       "      <td>22897</td>\n",
       "      <td>36614</td>\n",
       "      <td>...</td>\n",
       "      <td>'2 50.1 - 100% FMR'</td>\n",
       "      <td>'4 60 - 80% AMI'</td>\n",
       "      <td>'5 80 - 100% AMI'</td>\n",
       "      <td>'6 100 - 120% AMI'</td>\n",
       "      <td>'4 60 - 80% AMI'</td>\n",
       "      <td>'4 60 - 80% AMI'</td>\n",
       "      <td>'.'</td>\n",
       "      <td>'3 50% or More'</td>\n",
       "      <td>'-5'</td>\n",
       "      <td>'-5'</td>\n",
       "    </tr>\n",
       "    <tr>\n",
       "      <th>3</th>\n",
       "      <td>3</td>\n",
       "      <td>'100006520140'</td>\n",
       "      <td>67</td>\n",
       "      <td>'5'</td>\n",
       "      <td>'3'</td>\n",
       "      <td>55846</td>\n",
       "      <td>949</td>\n",
       "      <td>13750</td>\n",
       "      <td>22897</td>\n",
       "      <td>36614</td>\n",
       "      <td>...</td>\n",
       "      <td>'2 50.1 - 100% FMR'</td>\n",
       "      <td>'6 100 - 120% AMI'</td>\n",
       "      <td>'7 120% AMI +'</td>\n",
       "      <td>'7 120% AMI +'</td>\n",
       "      <td>'5 80 - 100% AMI'</td>\n",
       "      <td>'4 60 - 80% AMI'</td>\n",
       "      <td>'.'</td>\n",
       "      <td>'1 Less than 30%'</td>\n",
       "      <td>'-5'</td>\n",
       "      <td>'-5'</td>\n",
       "    </tr>\n",
       "    <tr>\n",
       "      <th>4</th>\n",
       "      <td>4</td>\n",
       "      <td>'100007130148'</td>\n",
       "      <td>26</td>\n",
       "      <td>'1'</td>\n",
       "      <td>'3'</td>\n",
       "      <td>60991</td>\n",
       "      <td>737</td>\n",
       "      <td>14801</td>\n",
       "      <td>24628</td>\n",
       "      <td>39421</td>\n",
       "      <td>...</td>\n",
       "      <td>'3 GT FMR'</td>\n",
       "      <td>'3 50 - 60% AMI'</td>\n",
       "      <td>'3 50 - 60% AMI'</td>\n",
       "      <td>'3 50 - 60% AMI'</td>\n",
       "      <td>'3 50 - 60% AMI'</td>\n",
       "      <td>'7 120% AMI +'</td>\n",
       "      <td>'0 Not Assisted'</td>\n",
       "      <td>'1 Less than 30%'</td>\n",
       "      <td>'-5'</td>\n",
       "      <td>'-5'</td>\n",
       "    </tr>\n",
       "  </tbody>\n",
       "</table>\n",
       "<p>5 rows × 100 columns</p>\n",
       "</div>"
      ],
      "text/plain": [
       "   Unnamed: 0         CONTROL  AGE1 METRO3 REGION   LMED   FMR    L30    L50  \\\n",
       "0           0  '100003130103'    82    '3'    '1'  73738   956  15738  26213   \n",
       "1           1  '100006110249'    50    '5'    '3'  55846  1100  17165  28604   \n",
       "2           2  '100006370140'    53    '5'    '3'  55846  1100  13750  22897   \n",
       "3           3  '100006520140'    67    '5'    '3'  55846   949  13750  22897   \n",
       "4           4  '100007130148'    26    '1'    '3'  60991   737  14801  24628   \n",
       "\n",
       "     L80  ...      FMTINCRELFMRCAT  FMTCOST06RELAMICAT  FMTCOST08RELAMICAT  \\\n",
       "0  40322  ...      '1 LTE 50% FMR'    '2 30 - 50% AMI'    '2 30 - 50% AMI'   \n",
       "1  45744  ...           '3 GT FMR'    '4 60 - 80% AMI'    '4 60 - 80% AMI'   \n",
       "2  36614  ...  '2 50.1 - 100% FMR'    '4 60 - 80% AMI'   '5 80 - 100% AMI'   \n",
       "3  36614  ...  '2 50.1 - 100% FMR'  '6 100 - 120% AMI'      '7 120% AMI +'   \n",
       "4  39421  ...           '3 GT FMR'    '3 50 - 60% AMI'    '3 50 - 60% AMI'   \n",
       "\n",
       "   FMTCOST12RELAMICAT  FMTCOSTMEDRELAMICAT   FMTINCRELAMICAT  \\\n",
       "0    '2 30 - 50% AMI'     '2 30 - 50% AMI'  '2 30 - 50% AMI'   \n",
       "1  '6 100 - 120% AMI'     '4 60 - 80% AMI'    '7 120% AMI +'   \n",
       "2  '6 100 - 120% AMI'     '4 60 - 80% AMI'  '4 60 - 80% AMI'   \n",
       "3      '7 120% AMI +'    '5 80 - 100% AMI'  '4 60 - 80% AMI'   \n",
       "4    '3 50 - 60% AMI'     '3 50 - 60% AMI'    '7 120% AMI +'   \n",
       "\n",
       "        FMTASSISTED          FMTBURDEN  FMTREGION  FMTSTATUS  \n",
       "0               '.'     '2 30% to 50%'       '-5'       '-5'  \n",
       "1               '.'  '1 Less than 30%'       '-5'       '-5'  \n",
       "2               '.'    '3 50% or More'       '-5'       '-5'  \n",
       "3               '.'  '1 Less than 30%'       '-5'       '-5'  \n",
       "4  '0 Not Assisted'  '1 Less than 30%'       '-5'       '-5'  \n",
       "\n",
       "[5 rows x 100 columns]"
      ]
     },
     "execution_count": 7,
     "metadata": {},
     "output_type": "execute_result"
    }
   ],
   "source": [
    "df.head()"
   ]
  },
  {
   "cell_type": "code",
   "execution_count": 8,
   "id": "53255e24",
   "metadata": {},
   "outputs": [
    {
     "data": {
      "text/html": [
       "<div>\n",
       "<style scoped>\n",
       "    .dataframe tbody tr th:only-of-type {\n",
       "        vertical-align: middle;\n",
       "    }\n",
       "\n",
       "    .dataframe tbody tr th {\n",
       "        vertical-align: top;\n",
       "    }\n",
       "\n",
       "    .dataframe thead th {\n",
       "        text-align: right;\n",
       "    }\n",
       "</style>\n",
       "<table border=\"1\" class=\"dataframe\">\n",
       "  <thead>\n",
       "    <tr style=\"text-align: right;\">\n",
       "      <th></th>\n",
       "      <th>Unnamed: 0</th>\n",
       "      <th>CONTROL</th>\n",
       "      <th>AGE1</th>\n",
       "      <th>METRO3</th>\n",
       "      <th>REGION</th>\n",
       "      <th>LMED</th>\n",
       "      <th>FMR</th>\n",
       "      <th>L30</th>\n",
       "      <th>L50</th>\n",
       "      <th>L80</th>\n",
       "      <th>...</th>\n",
       "      <th>FMTINCRELFMRCAT</th>\n",
       "      <th>FMTCOST06RELAMICAT</th>\n",
       "      <th>FMTCOST08RELAMICAT</th>\n",
       "      <th>FMTCOST12RELAMICAT</th>\n",
       "      <th>FMTCOSTMEDRELAMICAT</th>\n",
       "      <th>FMTINCRELAMICAT</th>\n",
       "      <th>FMTASSISTED</th>\n",
       "      <th>FMTBURDEN</th>\n",
       "      <th>FMTREGION</th>\n",
       "      <th>FMTSTATUS</th>\n",
       "    </tr>\n",
       "  </thead>\n",
       "  <tbody>\n",
       "    <tr>\n",
       "      <th>64530</th>\n",
       "      <td>64530</td>\n",
       "      <td>'999900056779'</td>\n",
       "      <td>55</td>\n",
       "      <td>'1'</td>\n",
       "      <td>'4'</td>\n",
       "      <td>55929</td>\n",
       "      <td>556</td>\n",
       "      <td>12938</td>\n",
       "      <td>21525</td>\n",
       "      <td>34414</td>\n",
       "      <td>...</td>\n",
       "      <td>'1 LTE 50% FMR'</td>\n",
       "      <td>'3 50 - 60% AMI'</td>\n",
       "      <td>'3 50 - 60% AMI'</td>\n",
       "      <td>'3 50 - 60% AMI'</td>\n",
       "      <td>'3 50 - 60% AMI'</td>\n",
       "      <td>'1 LTE 30% AMI'</td>\n",
       "      <td>'0 Not Assisted'</td>\n",
       "      <td>'3 50% or More'</td>\n",
       "      <td>'West'</td>\n",
       "      <td>'-5'</td>\n",
       "    </tr>\n",
       "    <tr>\n",
       "      <th>64531</th>\n",
       "      <td>64531</td>\n",
       "      <td>'999900056781'</td>\n",
       "      <td>37</td>\n",
       "      <td>'1'</td>\n",
       "      <td>'2'</td>\n",
       "      <td>73600</td>\n",
       "      <td>966</td>\n",
       "      <td>23900</td>\n",
       "      <td>39750</td>\n",
       "      <td>63650</td>\n",
       "      <td>...</td>\n",
       "      <td>'3 GT FMR'</td>\n",
       "      <td>'1 LTE 30% AMI'</td>\n",
       "      <td>'1 LTE 30% AMI'</td>\n",
       "      <td>'1 LTE 30% AMI'</td>\n",
       "      <td>'1 LTE 30% AMI'</td>\n",
       "      <td>'5 80 - 100% AMI'</td>\n",
       "      <td>'0 Not Assisted'</td>\n",
       "      <td>'1 Less than 30%'</td>\n",
       "      <td>'-5'</td>\n",
       "      <td>'-5'</td>\n",
       "    </tr>\n",
       "    <tr>\n",
       "      <th>64532</th>\n",
       "      <td>64532</td>\n",
       "      <td>'999900056784'</td>\n",
       "      <td>23</td>\n",
       "      <td>'2'</td>\n",
       "      <td>'4'</td>\n",
       "      <td>86300</td>\n",
       "      <td>2701</td>\n",
       "      <td>23500</td>\n",
       "      <td>39200</td>\n",
       "      <td>62650</td>\n",
       "      <td>...</td>\n",
       "      <td>'1 LTE 50% FMR'</td>\n",
       "      <td>'5 80 - 100% AMI'</td>\n",
       "      <td>'5 80 - 100% AMI'</td>\n",
       "      <td>'5 80 - 100% AMI'</td>\n",
       "      <td>'5 80 - 100% AMI'</td>\n",
       "      <td>'3 50 - 60% AMI'</td>\n",
       "      <td>'0 Not Assisted'</td>\n",
       "      <td>'3 50% or More'</td>\n",
       "      <td>'West'</td>\n",
       "      <td>'-5'</td>\n",
       "    </tr>\n",
       "    <tr>\n",
       "      <th>64533</th>\n",
       "      <td>64533</td>\n",
       "      <td>'999900056785'</td>\n",
       "      <td>57</td>\n",
       "      <td>'1'</td>\n",
       "      <td>'4'</td>\n",
       "      <td>79659</td>\n",
       "      <td>770</td>\n",
       "      <td>17150</td>\n",
       "      <td>28577</td>\n",
       "      <td>43494</td>\n",
       "      <td>...</td>\n",
       "      <td>'3 GT FMR'</td>\n",
       "      <td>'1 LTE 30% AMI'</td>\n",
       "      <td>'1 LTE 30% AMI'</td>\n",
       "      <td>'1 LTE 30% AMI'</td>\n",
       "      <td>'1 LTE 30% AMI'</td>\n",
       "      <td>'6 100 - 120% AMI'</td>\n",
       "      <td>'0 Not Assisted'</td>\n",
       "      <td>'1 Less than 30%'</td>\n",
       "      <td>'West'</td>\n",
       "      <td>'-5'</td>\n",
       "    </tr>\n",
       "    <tr>\n",
       "      <th>64534</th>\n",
       "      <td>64534</td>\n",
       "      <td>'999900056786'</td>\n",
       "      <td>66</td>\n",
       "      <td>'4'</td>\n",
       "      <td>'3'</td>\n",
       "      <td>50723</td>\n",
       "      <td>542</td>\n",
       "      <td>11092</td>\n",
       "      <td>18470</td>\n",
       "      <td>29536</td>\n",
       "      <td>...</td>\n",
       "      <td>'2 50.1 - 100% FMR'</td>\n",
       "      <td>'1 LTE 30% AMI'</td>\n",
       "      <td>'1 LTE 30% AMI'</td>\n",
       "      <td>'1 LTE 30% AMI'</td>\n",
       "      <td>'1 LTE 30% AMI'</td>\n",
       "      <td>'2 30 - 50% AMI'</td>\n",
       "      <td>'0 Not Assisted'</td>\n",
       "      <td>'1 Less than 30%'</td>\n",
       "      <td>'-5'</td>\n",
       "      <td>'-5'</td>\n",
       "    </tr>\n",
       "  </tbody>\n",
       "</table>\n",
       "<p>5 rows × 100 columns</p>\n",
       "</div>"
      ],
      "text/plain": [
       "       Unnamed: 0         CONTROL  AGE1 METRO3 REGION   LMED   FMR    L30  \\\n",
       "64530       64530  '999900056779'    55    '1'    '4'  55929   556  12938   \n",
       "64531       64531  '999900056781'    37    '1'    '2'  73600   966  23900   \n",
       "64532       64532  '999900056784'    23    '2'    '4'  86300  2701  23500   \n",
       "64533       64533  '999900056785'    57    '1'    '4'  79659   770  17150   \n",
       "64534       64534  '999900056786'    66    '4'    '3'  50723   542  11092   \n",
       "\n",
       "         L50    L80  ...      FMTINCRELFMRCAT  FMTCOST06RELAMICAT  \\\n",
       "64530  21525  34414  ...      '1 LTE 50% FMR'    '3 50 - 60% AMI'   \n",
       "64531  39750  63650  ...           '3 GT FMR'     '1 LTE 30% AMI'   \n",
       "64532  39200  62650  ...      '1 LTE 50% FMR'   '5 80 - 100% AMI'   \n",
       "64533  28577  43494  ...           '3 GT FMR'     '1 LTE 30% AMI'   \n",
       "64534  18470  29536  ...  '2 50.1 - 100% FMR'     '1 LTE 30% AMI'   \n",
       "\n",
       "       FMTCOST08RELAMICAT FMTCOST12RELAMICAT  FMTCOSTMEDRELAMICAT  \\\n",
       "64530    '3 50 - 60% AMI'   '3 50 - 60% AMI'     '3 50 - 60% AMI'   \n",
       "64531     '1 LTE 30% AMI'    '1 LTE 30% AMI'      '1 LTE 30% AMI'   \n",
       "64532   '5 80 - 100% AMI'  '5 80 - 100% AMI'    '5 80 - 100% AMI'   \n",
       "64533     '1 LTE 30% AMI'    '1 LTE 30% AMI'      '1 LTE 30% AMI'   \n",
       "64534     '1 LTE 30% AMI'    '1 LTE 30% AMI'      '1 LTE 30% AMI'   \n",
       "\n",
       "          FMTINCRELAMICAT       FMTASSISTED          FMTBURDEN  FMTREGION  \\\n",
       "64530     '1 LTE 30% AMI'  '0 Not Assisted'    '3 50% or More'     'West'   \n",
       "64531   '5 80 - 100% AMI'  '0 Not Assisted'  '1 Less than 30%'       '-5'   \n",
       "64532    '3 50 - 60% AMI'  '0 Not Assisted'    '3 50% or More'     'West'   \n",
       "64533  '6 100 - 120% AMI'  '0 Not Assisted'  '1 Less than 30%'     'West'   \n",
       "64534    '2 30 - 50% AMI'  '0 Not Assisted'  '1 Less than 30%'       '-5'   \n",
       "\n",
       "       FMTSTATUS  \n",
       "64530       '-5'  \n",
       "64531       '-5'  \n",
       "64532       '-5'  \n",
       "64533       '-5'  \n",
       "64534       '-5'  \n",
       "\n",
       "[5 rows x 100 columns]"
      ]
     },
     "execution_count": 8,
     "metadata": {},
     "output_type": "execute_result"
    }
   ],
   "source": [
    "df.tail()"
   ]
  },
  {
   "cell_type": "code",
   "execution_count": 9,
   "id": "f98afaf9",
   "metadata": {},
   "outputs": [
    {
     "name": "stdout",
     "output_type": "stream",
     "text": [
      "<class 'pandas.core.frame.DataFrame'>\n",
      "RangeIndex: 64535 entries, 0 to 64534\n",
      "Data columns (total 100 columns):\n",
      " #   Column               Non-Null Count  Dtype  \n",
      "---  ------               --------------  -----  \n",
      " 0   Unnamed: 0           64535 non-null  int64  \n",
      " 1   CONTROL              64535 non-null  object \n",
      " 2   AGE1                 64535 non-null  int64  \n",
      " 3   METRO3               64535 non-null  object \n",
      " 4   REGION               64535 non-null  object \n",
      " 5   LMED                 64535 non-null  int64  \n",
      " 6   FMR                  64535 non-null  int64  \n",
      " 7   L30                  64535 non-null  int64  \n",
      " 8   L50                  64535 non-null  int64  \n",
      " 9   L80                  64535 non-null  int64  \n",
      " 10  IPOV                 64535 non-null  int64  \n",
      " 11  BEDRMS               64535 non-null  int64  \n",
      " 12  BUILT                64535 non-null  int64  \n",
      " 13  STATUS               64535 non-null  object \n",
      " 14  TYPE                 64535 non-null  int64  \n",
      " 15  VALUE                64535 non-null  int64  \n",
      " 16  VACANCY              64535 non-null  int64  \n",
      " 17  TENURE               64535 non-null  object \n",
      " 18  NUNITS               64535 non-null  int64  \n",
      " 19  ROOMS                64535 non-null  int64  \n",
      " 20  WEIGHT               64535 non-null  float64\n",
      " 21  PER                  64535 non-null  int64  \n",
      " 22  ZINC2                64535 non-null  int64  \n",
      " 23  ZADEQ                64535 non-null  object \n",
      " 24  ZSMHC                64535 non-null  int64  \n",
      " 25  STRUCTURETYPE        64535 non-null  int64  \n",
      " 26  OWNRENT              64535 non-null  object \n",
      " 27  UTILITY              64535 non-null  float64\n",
      " 28  OTHERCOST            64535 non-null  float64\n",
      " 29  COST06               64535 non-null  float64\n",
      " 30  COST12               64535 non-null  float64\n",
      " 31  COST08               64535 non-null  float64\n",
      " 32  COSTMED              64535 non-null  float64\n",
      " 33  TOTSAL               64535 non-null  int64  \n",
      " 34  ASSISTED             64535 non-null  int64  \n",
      " 35  GLMED                64535 non-null  int64  \n",
      " 36  GL30                 64535 non-null  int64  \n",
      " 37  GL50                 64535 non-null  int64  \n",
      " 38  GL80                 64535 non-null  int64  \n",
      " 39  APLMED               64535 non-null  float64\n",
      " 40  ABL30                64535 non-null  float64\n",
      " 41  ABL50                64535 non-null  float64\n",
      " 42  ABL80                64535 non-null  float64\n",
      " 43  ABLMED               64535 non-null  float64\n",
      " 44  BURDEN               64535 non-null  float64\n",
      " 45  INCRELAMIPCT         64535 non-null  float64\n",
      " 46  INCRELAMICAT         64535 non-null  int64  \n",
      " 47  INCRELPOVPCT         64535 non-null  float64\n",
      " 48  INCRELPOVCAT         64535 non-null  int64  \n",
      " 49  INCRELFMRPCT         64535 non-null  float64\n",
      " 50  INCRELFMRCAT         64535 non-null  int64  \n",
      " 51  COST06RELAMIPCT      64535 non-null  float64\n",
      " 52  COST06RELAMICAT      64535 non-null  int64  \n",
      " 53  COST06RELPOVPCT      64535 non-null  float64\n",
      " 54  COST06RELPOVCAT      64535 non-null  int64  \n",
      " 55  COST06RELFMRPCT      64535 non-null  float64\n",
      " 56  COST06RELFMRCAT      64535 non-null  int64  \n",
      " 57  COST08RELAMIPCT      64535 non-null  float64\n",
      " 58  COST08RELAMICAT      64535 non-null  int64  \n",
      " 59  COST08RELPOVPCT      64535 non-null  float64\n",
      " 60  COST08RELPOVCAT      64535 non-null  int64  \n",
      " 61  COST08RELFMRPCT      64535 non-null  float64\n",
      " 62  COST08RELFMRCAT      64535 non-null  int64  \n",
      " 63  COST12RELAMIPCT      64535 non-null  float64\n",
      " 64  COST12RELAMICAT      64535 non-null  int64  \n",
      " 65  COST12RELPOVPCT      64535 non-null  float64\n",
      " 66  COST12RELPOVCAT      64535 non-null  int64  \n",
      " 67  COST12RELFMRPCT      64535 non-null  float64\n",
      " 68  COST12RELFMRCAT      64535 non-null  int64  \n",
      " 69  COSTMedRELAMIPCT     64535 non-null  float64\n",
      " 70  COSTMedRELAMICAT     64535 non-null  int64  \n",
      " 71  COSTMedRELPOVPCT     64535 non-null  float64\n",
      " 72  COSTMedRELPOVCAT     64535 non-null  int64  \n",
      " 73  COSTMedRELFMRPCT     64535 non-null  float64\n",
      " 74  COSTMedRELFMRCAT     64535 non-null  int64  \n",
      " 75  FMTZADEQ             64535 non-null  object \n",
      " 76  FMTMETRO3            64535 non-null  object \n",
      " 77  FMTBUILT             64535 non-null  object \n",
      " 78  FMTSTRUCTURETYPE     64535 non-null  object \n",
      " 79  FMTBEDRMS            64535 non-null  object \n",
      " 80  FMTOWNRENT           64535 non-null  object \n",
      " 81  FMTCOST06RELPOVCAT   64535 non-null  object \n",
      " 82  FMTCOST08RELPOVCAT   64535 non-null  object \n",
      " 83  FMTCOST12RELPOVCAT   64535 non-null  object \n",
      " 84  FMTCOSTMEDRELPOVCAT  64535 non-null  object \n",
      " 85  FMTINCRELPOVCAT      64535 non-null  object \n",
      " 86  FMTCOST06RELFMRCAT   64535 non-null  object \n",
      " 87  FMTCOST08RELFMRCAT   64535 non-null  object \n",
      " 88  FMTCOST12RELFMRCAT   64535 non-null  object \n",
      " 89  FMTCOSTMEDRELFMRCAT  64535 non-null  object \n",
      " 90  FMTINCRELFMRCAT      64535 non-null  object \n",
      " 91  FMTCOST06RELAMICAT   64535 non-null  object \n",
      " 92  FMTCOST08RELAMICAT   64535 non-null  object \n",
      " 93  FMTCOST12RELAMICAT   64535 non-null  object \n",
      " 94  FMTCOSTMEDRELAMICAT  64535 non-null  object \n",
      " 95  FMTINCRELAMICAT      64535 non-null  object \n",
      " 96  FMTASSISTED          64535 non-null  object \n",
      " 97  FMTBURDEN            64535 non-null  object \n",
      " 98  FMTREGION            64535 non-null  object \n",
      " 99  FMTSTATUS            64535 non-null  object \n",
      "dtypes: float64(28), int64(40), object(32)\n",
      "memory usage: 49.2+ MB\n"
     ]
    }
   ],
   "source": [
    "df.info()"
   ]
  },
  {
   "cell_type": "code",
   "execution_count": 12,
   "id": "1e7a2f18",
   "metadata": {},
   "outputs": [
    {
     "data": {
      "text/plain": [
       "Unnamed: 0         0\n",
       "CONTROL            0\n",
       "AGE1               0\n",
       "METRO3             0\n",
       "REGION             0\n",
       "                  ..\n",
       "FMTINCRELAMICAT    0\n",
       "FMTASSISTED        0\n",
       "FMTBURDEN          0\n",
       "FMTREGION          0\n",
       "FMTSTATUS          0\n",
       "Length: 100, dtype: int64"
      ]
     },
     "execution_count": 12,
     "metadata": {},
     "output_type": "execute_result"
    }
   ],
   "source": [
    "df.isnull().sum()"
   ]
  },
  {
   "cell_type": "code",
   "execution_count": 19,
   "id": "087ae29e",
   "metadata": {},
   "outputs": [
    {
     "data": {
      "text/plain": [
       "(64535, 100)"
      ]
     },
     "execution_count": 19,
     "metadata": {},
     "output_type": "execute_result"
    }
   ],
   "source": [
    "df.shape"
   ]
  },
  {
   "cell_type": "code",
   "execution_count": 20,
   "id": "8d6a5a89",
   "metadata": {},
   "outputs": [
    {
     "data": {
      "text/plain": [
       "Index(['Unnamed: 0', 'CONTROL', 'AGE1', 'METRO3', 'REGION', 'LMED', 'FMR',\n",
       "       'L30', 'L50', 'L80', 'IPOV', 'BEDRMS', 'BUILT', 'STATUS', 'TYPE',\n",
       "       'VALUE', 'VACANCY', 'TENURE', 'NUNITS', 'ROOMS', 'WEIGHT', 'PER',\n",
       "       'ZINC2', 'ZADEQ', 'ZSMHC', 'STRUCTURETYPE', 'OWNRENT', 'UTILITY',\n",
       "       'OTHERCOST', 'COST06', 'COST12', 'COST08', 'COSTMED', 'TOTSAL',\n",
       "       'ASSISTED', 'GLMED', 'GL30', 'GL50', 'GL80', 'APLMED', 'ABL30', 'ABL50',\n",
       "       'ABL80', 'ABLMED', 'BURDEN', 'INCRELAMIPCT', 'INCRELAMICAT',\n",
       "       'INCRELPOVPCT', 'INCRELPOVCAT', 'INCRELFMRPCT', 'INCRELFMRCAT',\n",
       "       'COST06RELAMIPCT', 'COST06RELAMICAT', 'COST06RELPOVPCT',\n",
       "       'COST06RELPOVCAT', 'COST06RELFMRPCT', 'COST06RELFMRCAT',\n",
       "       'COST08RELAMIPCT', 'COST08RELAMICAT', 'COST08RELPOVPCT',\n",
       "       'COST08RELPOVCAT', 'COST08RELFMRPCT', 'COST08RELFMRCAT',\n",
       "       'COST12RELAMIPCT', 'COST12RELAMICAT', 'COST12RELPOVPCT',\n",
       "       'COST12RELPOVCAT', 'COST12RELFMRPCT', 'COST12RELFMRCAT',\n",
       "       'COSTMedRELAMIPCT', 'COSTMedRELAMICAT', 'COSTMedRELPOVPCT',\n",
       "       'COSTMedRELPOVCAT', 'COSTMedRELFMRPCT', 'COSTMedRELFMRCAT', 'FMTZADEQ',\n",
       "       'FMTMETRO3', 'FMTBUILT', 'FMTSTRUCTURETYPE', 'FMTBEDRMS', 'FMTOWNRENT',\n",
       "       'FMTCOST06RELPOVCAT', 'FMTCOST08RELPOVCAT', 'FMTCOST12RELPOVCAT',\n",
       "       'FMTCOSTMEDRELPOVCAT', 'FMTINCRELPOVCAT', 'FMTCOST06RELFMRCAT',\n",
       "       'FMTCOST08RELFMRCAT', 'FMTCOST12RELFMRCAT', 'FMTCOSTMEDRELFMRCAT',\n",
       "       'FMTINCRELFMRCAT', 'FMTCOST06RELAMICAT', 'FMTCOST08RELAMICAT',\n",
       "       'FMTCOST12RELAMICAT', 'FMTCOSTMEDRELAMICAT', 'FMTINCRELAMICAT',\n",
       "       'FMTASSISTED', 'FMTBURDEN', 'FMTREGION', 'FMTSTATUS'],\n",
       "      dtype='object')"
      ]
     },
     "execution_count": 20,
     "metadata": {},
     "output_type": "execute_result"
    }
   ],
   "source": [
    "df.columns"
   ]
  },
  {
   "cell_type": "code",
   "execution_count": 28,
   "id": "eef3c0ea",
   "metadata": {},
   "outputs": [
    {
     "data": {
      "text/plain": [
       "'100003130103'    1\n",
       "'599946990345'    1\n",
       "'599939820348'    1\n",
       "'599941730113'    1\n",
       "'599941890346'    1\n",
       "                 ..\n",
       "'387410390146'    1\n",
       "'387410540146'    1\n",
       "'387416580147'    1\n",
       "'387423350148'    1\n",
       "'999900056786'    1\n",
       "Name: CONTROL, Length: 64535, dtype: int64"
      ]
     },
     "execution_count": 28,
     "metadata": {},
     "output_type": "execute_result"
    }
   ],
   "source": [
    "df['CONTROL'].value_counts()"
   ]
  },
  {
   "cell_type": "code",
   "execution_count": 27,
   "id": "523312d0",
   "metadata": {},
   "outputs": [
    {
     "data": {
      "text/plain": [
       "-6    60097\n",
       " 1     2760\n",
       " 3     1010\n",
       " 5      284\n",
       " 2      212\n",
       " 4      172\n",
       "Name: VACANCY, dtype: int64"
      ]
     },
     "execution_count": 27,
     "metadata": {},
     "output_type": "execute_result"
    }
   ],
   "source": [
    "df['VACANCY'].value_counts()"
   ]
  },
  {
   "cell_type": "code",
   "execution_count": 29,
   "id": "45e4d443",
   "metadata": {},
   "outputs": [
    {
     "data": {
      "text/plain": [
       "-6          27389\n",
       " 150000      1918\n",
       " 200000      1817\n",
       " 100000      1774\n",
       " 80000       1524\n",
       "            ...  \n",
       " 1040000        1\n",
       " 1010000        1\n",
       " 1080000        1\n",
       " 930000         1\n",
       " 1240000        1\n",
       "Name: VALUE, Length: 117, dtype: int64"
      ]
     },
     "execution_count": 29,
     "metadata": {},
     "output_type": "execute_result"
    }
   ],
   "source": [
    "df['VALUE'].value_counts()"
   ]
  },
  {
   "cell_type": "code",
   "execution_count": 30,
   "id": "c3ee2e29",
   "metadata": {},
   "outputs": [
    {
     "data": {
      "text/plain": [
       "-9.000000    4438\n",
       "-1.000000    1208\n",
       " 0.000000     125\n",
       " 0.300000      19\n",
       " 0.360000      14\n",
       "             ... \n",
       " 0.166265       1\n",
       " 0.411334       1\n",
       " 0.298361       1\n",
       " 0.782123       1\n",
       " 0.083418       1\n",
       "Name: BURDEN, Length: 56114, dtype: int64"
      ]
     },
     "execution_count": 30,
     "metadata": {},
     "output_type": "execute_result"
    }
   ],
   "source": [
    "df['BURDEN'].value_counts()"
   ]
  },
  {
   "cell_type": "code",
   "execution_count": 31,
   "id": "56a5e2c8",
   "metadata": {},
   "outputs": [
    {
     "data": {
      "text/plain": [
       " 1    41271\n",
       " 3     7273\n",
       " 2     6257\n",
       " 5     4570\n",
       " 4     2719\n",
       " 6     2443\n",
       "-9        2\n",
       "Name: STRUCTURETYPE, dtype: int64"
      ]
     },
     "execution_count": 31,
     "metadata": {},
     "output_type": "execute_result"
    }
   ],
   "source": [
    "df['STRUCTURETYPE'].value_counts()"
   ]
  },
  {
   "cell_type": "code",
   "execution_count": 32,
   "id": "10f58620",
   "metadata": {},
   "outputs": [
    {
     "data": {
      "text/plain": [
       "'1'     35852\n",
       "'2'     23358\n",
       "'-6'     4438\n",
       "'3'       887\n",
       "Name: TENURE, dtype: int64"
      ]
     },
     "execution_count": 32,
     "metadata": {},
     "output_type": "execute_result"
    }
   ],
   "source": [
    "df['TENURE'].value_counts()"
   ]
  },
  {
   "cell_type": "code",
   "execution_count": 33,
   "id": "954e5b2d",
   "metadata": {},
   "outputs": [
    {
     "data": {
      "text/plain": [
       "5     13116\n",
       "6     13038\n",
       "4     11009\n",
       "7      8751\n",
       "3      7388\n",
       "8      5640\n",
       "9      2705\n",
       "10     1084\n",
       "2       753\n",
       "11      417\n",
       "12      228\n",
       "13      205\n",
       "1       190\n",
       "14        9\n",
       "15        2\n",
       "Name: ROOMS, dtype: int64"
      ]
     },
     "execution_count": 33,
     "metadata": {},
     "output_type": "execute_result"
    }
   ],
   "source": [
    "df['ROOMS'].value_counts()"
   ]
  },
  {
   "cell_type": "code",
   "execution_count": 43,
   "id": "ff4fb089",
   "metadata": {},
   "outputs": [
    {
     "data": {
      "text/plain": [
       "'1 Single Family'    41271\n",
       "'3 5-19 units'        7273\n",
       "'2 2-4 units'         6257\n",
       "'5 50+ units'         4570\n",
       "'4 20-49 units'       2719\n",
       "'6 Mobile Home'       2443\n",
       "'.'                      2\n",
       "Name: FMTSTRUCTURETYPE, dtype: int64"
      ]
     },
     "execution_count": 43,
     "metadata": {},
     "output_type": "execute_result"
    }
   ],
   "source": [
    "structure_type = df['FMTSTRUCTURETYPE'].value_counts()\n",
    "structure_type"
   ]
  },
  {
   "cell_type": "code",
   "execution_count": 40,
   "id": "5a4d40d7",
   "metadata": {},
   "outputs": [
    {
     "data": {
      "text/plain": [
       "Text(0, 0.5, 'NO OF HOUSES')"
      ]
     },
     "execution_count": 40,
     "metadata": {},
     "output_type": "execute_result"
    },
    {
     "data": {
      "image/png": "[encoded data removed]",
      "text/plain": [
       "<Figure size 432x288 with 1 Axes>"
      ]
     },
     "metadata": {
      "needs_background": "light"
     },
     "output_type": "display_data"
    }
   ],
   "source": [
    "structure_type.plot.bar(width = 0.9,align = 'edge')\n",
    "plt.title('NO OF HOUSES BASED ON THE STRUCTURETYPE')\n",
    "plt.xlabel('FMTSTRUCTURETYPE')\n",
    "plt.ylabel('NO OF HOUSES')"
   ]
  },
  {
   "cell_type": "markdown",
   "id": "dce61172",
   "metadata": {},
   "source": [
    "From the above observation most number of occupations were occupied by '1 Single Family'. "
   ]
  },
  {
   "cell_type": "code",
   "execution_count": 45,
   "id": "34f171f4",
   "metadata": {},
   "outputs": [
    {
     "data": {
      "text/plain": [
       "'1 Owner'     37146\n",
       "'2 Renter'    27389\n",
       "Name: FMTOWNRENT, dtype: int64"
      ]
     },
     "execution_count": 45,
     "metadata": {},
     "output_type": "execute_result"
    }
   ],
   "source": [
    "structure_type = df['FMTOWNRENT'].value_counts()\n",
    "structure_type"
   ]
  },
  {
   "cell_type": "code",
   "execution_count": 47,
   "id": "89f9697f",
   "metadata": {},
   "outputs": [
    {
     "data": {
      "text/plain": [
       "Text(0, 0.5, 'NO OF HOUSES')"
      ]
     },
     "execution_count": 47,
     "metadata": {},
     "output_type": "execute_result"
    },
    {
     "data": {
      "image/png": "[encoded data removed]",
      "text/plain": [
       "<Figure size 432x288 with 1 Axes>"
      ]
     },
     "metadata": {
      "needs_background": "light"
     },
     "output_type": "display_data"
    }
   ],
   "source": [
    "structure_type.plot.bar(width = 0.9,align = 'edge')\n",
    "plt.title('NO OF HOUSES BASED ON THE TOWNRENT')\n",
    "plt.xlabel('FMTOWNRENT')\n",
    "plt.ylabel('NO OF HOUSES')"
   ]
  },
  {
   "cell_type": "markdown",
   "id": "e107d549",
   "metadata": {},
   "source": [
    "From the above plot we can say that 1 owner houses are more than 2 renter houses"
   ]
  },
  {
   "cell_type": "code",
   "execution_count": 49,
   "id": "951465a0",
   "metadata": {},
   "outputs": [
    {
     "data": {
      "text/plain": [
       "'3 3BR'       24850\n",
       "'2 2BR'       16401\n",
       "'4 4BR+'      12841\n",
       "'1 1BR'        9821\n",
       "'0 Studio'      622\n",
       "Name: FMTBEDRMS, dtype: int64"
      ]
     },
     "execution_count": 49,
     "metadata": {},
     "output_type": "execute_result"
    }
   ],
   "source": [
    "structure_type = df['FMTBEDRMS'].value_counts()\n",
    "structure_type"
   ]
  },
  {
   "cell_type": "code",
   "execution_count": 51,
   "id": "042a4c17",
   "metadata": {},
   "outputs": [
    {
     "data": {
      "text/plain": [
       "Text(0, 0.5, 'NO OF HOUSES')"
      ]
     },
     "execution_count": 51,
     "metadata": {},
     "output_type": "execute_result"
    },
    {
     "data": {
      "image/png": "[encoded data removed]",
      "text/plain": [
       "<Figure size 432x288 with 1 Axes>"
      ]
     },
     "metadata": {
      "needs_background": "light"
     },
     "output_type": "display_data"
    }
   ],
   "source": [
    "structure_type.plot.bar(width = 0.9,align = 'edge')\n",
    "plt.title('NO OF HOUSES BASED ON THE FMTBEDRMS')\n",
    "plt.xlabel('FMTBEDRMS')\n",
    "plt.ylabel('NO OF HOUSES')"
   ]
  },
  {
   "cell_type": "markdown",
   "id": "0be23b85",
   "metadata": {},
   "source": [
    "3 3BR houses were more when compared to any other type of houses, followed by 2 2BR and then 4 4BR."
   ]
  },
  {
   "cell_type": "code",
   "execution_count": 52,
   "id": "be6be806",
   "metadata": {},
   "outputs": [
    {
     "data": {
      "text/plain": [
       "'1960-1979'     19685\n",
       "'1940-1959'     11078\n",
       "'-5'            10058\n",
       "'1980-1989'      8234\n",
       "'1990-1999'      7533\n",
       "'2000-2009'      7176\n",
       "'After 2010'      771\n",
       "Name: FMTBUILT, dtype: int64"
      ]
     },
     "execution_count": 52,
     "metadata": {},
     "output_type": "execute_result"
    }
   ],
   "source": [
    "structure_type = df['FMTBUILT'].value_counts()\n",
    "structure_type"
   ]
  },
  {
   "cell_type": "code",
   "execution_count": 53,
   "id": "3fcb74f7",
   "metadata": {},
   "outputs": [
    {
     "data": {
      "text/plain": [
       "Text(0, 0.5, 'NO OF HOUSES')"
      ]
     },
     "execution_count": 53,
     "metadata": {},
     "output_type": "execute_result"
    },
    {
     "data": {
      "image/png": "[encoded data removed]",
      "text/plain": [
       "<Figure size 432x288 with 1 Axes>"
      ]
     },
     "metadata": {
      "needs_background": "light"
     },
     "output_type": "display_data"
    }
   ],
   "source": [
    "structure_type.plot.bar(width = 0.9,align = 'edge')\n",
    "plt.title('NO OF HOUSES BASED ON THE FMTBUILT')\n",
    "plt.xlabel('FMTBUILT')\n",
    "plt.ylabel('NO OF HOUSES')"
   ]
  },
  {
   "cell_type": "markdown",
   "id": "45fb87c4",
   "metadata": {},
   "source": [
    "In the above bar graph, we can see -5 on x-axis which is data inconvenience and I would be treating them when performing modelling at a later stage."
   ]
  },
  {
   "cell_type": "code",
   "execution_count": 54,
   "id": "93418d83",
   "metadata": {},
   "outputs": [
    {
     "data": {
      "text/plain": [
       "'1 Less than 30%'    36771\n",
       "'2 30% to 50%'       11295\n",
       "'3 50% or More'      10823\n",
       "'.'                   4438\n",
       "'4 No Income'         1208\n",
       "Name: FMTBURDEN, dtype: int64"
      ]
     },
     "execution_count": 54,
     "metadata": {},
     "output_type": "execute_result"
    }
   ],
   "source": [
    "structure_type = df['FMTBURDEN'].value_counts()\n",
    "structure_type"
   ]
  },
  {
   "cell_type": "markdown",
   "id": "e20f399b",
   "metadata": {},
   "source": [
    "We can see that most people consider owning a house a burden upto 30%."
   ]
  },
  {
   "cell_type": "code",
   "execution_count": 55,
   "id": "9d623baf",
   "metadata": {},
   "outputs": [
    {
     "data": {
      "text/plain": [
       "Text(0, 0.5, 'NO OF HOUSES')"
      ]
     },
     "execution_count": 55,
     "metadata": {},
     "output_type": "execute_result"
    },
    {
     "data": {
      "image/png": "[encoded data removed]",
      "text/plain": [
       "<Figure size 432x288 with 1 Axes>"
      ]
     },
     "metadata": {
      "needs_background": "light"
     },
     "output_type": "display_data"
    }
   ],
   "source": [
    "structure_type.plot.bar(width = 0.9,align = 'edge')\n",
    "plt.title('NO OF HOUSES BASED ON THE FMTBURDEN')\n",
    "plt.xlabel('FMTBURDEN')\n",
    "plt.ylabel('NO OF HOUSES')"
   ]
  },
  {
   "cell_type": "code",
   "execution_count": 57,
   "id": "b28a9bc1",
   "metadata": {},
   "outputs": [
    {
     "data": {
      "text/plain": [
       "<AxesSubplot:>"
      ]
     },
     "execution_count": 57,
     "metadata": {},
     "output_type": "execute_result"
    },
    {
     "data": {
      "image/png": "[encoded data removed]",
      "text/plain": [
       "<Figure size 432x288 with 1 Axes>"
      ]
     },
     "metadata": {
      "needs_background": "light"
     },
     "output_type": "display_data"
    }
   ],
   "source": [
    "df.BUILT.value_counts().plot(kind='bar')"
   ]
  },
  {
   "cell_type": "markdown",
   "id": "9dd76f20",
   "metadata": {},
   "source": [
    "We can observe that most houses were constructed in 1960."
   ]
  },
  {
   "cell_type": "code",
   "execution_count": 58,
   "id": "7ba382ad",
   "metadata": {},
   "outputs": [
    {
     "data": {
      "text/plain": [
       "<AxesSubplot:>"
      ]
     },
     "execution_count": 58,
     "metadata": {},
     "output_type": "execute_result"
    },
    {
     "data": {
      "image/png": "[encoded data removed]",
      "text/plain": [
       "<Figure size 432x288 with 1 Axes>"
      ]
     },
     "metadata": {
      "needs_background": "light"
     },
     "output_type": "display_data"
    }
   ],
   "source": [
    "df.TENURE.value_counts().plot(kind='bar')"
   ]
  },
  {
   "cell_type": "markdown",
   "id": "edce17ca",
   "metadata": {},
   "source": [
    "Most people have a tenure of 1 year, showing that most people in our dataset move out within a year."
   ]
  },
  {
   "cell_type": "code",
   "execution_count": 59,
   "id": "cb12d7a0",
   "metadata": {},
   "outputs": [
    {
     "data": {
      "text/plain": [
       "<AxesSubplot:xlabel='ROOMS', ylabel='VALUE'>"
      ]
     },
     "execution_count": 59,
     "metadata": {},
     "output_type": "execute_result"
    },
    {
     "data": {
      "image/png": "[encoded data removed]",
      "text/plain": [
       "<Figure size 432x288 with 1 Axes>"
      ]
     },
     "metadata": {
      "needs_background": "light"
     },
     "output_type": "display_data"
    }
   ],
   "source": [
    "import seaborn as sns\n",
    "sns.scatterplot(data=df, x=\"ROOMS\", y=\"VALUE\")"
   ]
  },
  {
   "cell_type": "markdown",
   "id": "4c1b9556",
   "metadata": {},
   "source": [
    "From above, as we plotted a scatter plot we are not able to analyze the true data."
   ]
  },
  {
   "cell_type": "code",
   "execution_count": 60,
   "id": "59f5afeb",
   "metadata": {},
   "outputs": [
    {
     "data": {
      "text/plain": [
       "<AxesSubplot:xlabel='ROOMS', ylabel='VALUE'>"
      ]
     },
     "execution_count": 60,
     "metadata": {},
     "output_type": "execute_result"
    },
    {
     "data": {
      "image/png": "[encoded data removed]",
      "text/plain": [
       "<Figure size 432x288 with 1 Axes>"
      ]
     },
     "metadata": {
      "needs_background": "light"
     },
     "output_type": "display_data"
    }
   ],
   "source": [
    "sns.barplot(data=df, x=\"ROOMS\", y=\"VALUE\")"
   ]
  },
  {
   "cell_type": "markdown",
   "id": "a1961270",
   "metadata": {},
   "source": [
    "From the above bar graph, we are able analyze that houses with more number of rooms have the highest value."
   ]
  },
  {
   "cell_type": "code",
   "execution_count": 63,
   "id": "2420ea11",
   "metadata": {},
   "outputs": [
    {
     "data": {
      "text/plain": [
       "<AxesSubplot:xlabel='WEIGHT', ylabel='VALUE'>"
      ]
     },
     "execution_count": 63,
     "metadata": {},
     "output_type": "execute_result"
    },
    {
     "data": {
      "image/png": "[encoded data removed]",
      "text/plain": [
       "<Figure size 432x288 with 1 Axes>"
      ]
     },
     "metadata": {
      "needs_background": "light"
     },
     "output_type": "display_data"
    }
   ],
   "source": [
    "sns.scatterplot(data=df, x=\"WEIGHT\", y=\"VALUE\")"
   ]
  },
  {
   "cell_type": "markdown",
   "id": "3f937caa",
   "metadata": {},
   "source": [
    "I assumed that weight and value might have some relation, but from the above plot it is clear that they do not have any relation"
   ]
  },
  {
   "cell_type": "code",
   "execution_count": 62,
   "id": "3268e981",
   "metadata": {},
   "outputs": [
    {
     "data": {
      "text/plain": [
       "<AxesSubplot:xlabel='AGE1', ylabel='VALUE'>"
      ]
     },
     "execution_count": 62,
     "metadata": {},
     "output_type": "execute_result"
    },
    {
     "data": {
      "image/png": "[encoded data removed]",
      "text/plain": [
       "<Figure size 432x288 with 1 Axes>"
      ]
     },
     "metadata": {
      "needs_background": "light"
     },
     "output_type": "display_data"
    }
   ],
   "source": [
    "sns.scatterplot(data=df, x=\"AGE1\", y=\"VALUE\")"
   ]
  },
  {
   "cell_type": "code",
   "execution_count": 64,
   "id": "88200c20",
   "metadata": {},
   "outputs": [
    {
     "data": {
      "text/plain": [
       "<AxesSubplot:xlabel='AGE1', ylabel='VALUE'>"
      ]
     },
     "execution_count": 64,
     "metadata": {},
     "output_type": "execute_result"
    },
    {
     "data": {
      "image/png": "[encoded data removed]",
      "text/plain": [
       "<Figure size 432x288 with 1 Axes>"
      ]
     },
     "metadata": {
      "needs_background": "light"
     },
     "output_type": "display_data"
    }
   ],
   "source": [
    "sns.barplot(data=df, x=\"AGE1\", y=\"VALUE\")"
   ]
  },
  {
   "cell_type": "markdown",
   "id": "a73cadcf",
   "metadata": {},
   "source": [
    "We can notice that from medium aged to high aged house, there is an increase in house prices but the price is capped at $200,000."
   ]
  },
  {
   "cell_type": "code",
   "execution_count": null,
   "id": "8f8afca2",
   "metadata": {},
   "outputs": [],
   "source": []
  }
 ],
 "metadata": {
  "kernelspec": {
   "display_name": "Python 3 (ipykernel)",
   "language": "python",
   "name": "python3"
  },
  "language_info": {
   "codemirror_mode": {
    "name": "ipython",
    "version": 3
   },
   "file_extension": ".py",
   "mimetype": "text/x-python",
   "name": "python",
   "nbconvert_exporter": "python",
   "pygments_lexer": "ipython3",
   "version": "3.9.7"
  }
 },
 "nbformat": 4,
 "nbformat_minor": 5
}
